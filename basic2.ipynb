{
 "cells": [
  {
   "cell_type": "markdown",
   "id": "d9fc4e76",
   "metadata": {},
   "source": [
    "### 1.What are the two values of the Boolean data type? How do you write them?"
   ]
  },
  {
   "cell_type": "markdown",
   "id": "868b3894",
   "metadata": {},
   "source": [
    "True and False"
   ]
  },
  {
   "cell_type": "markdown",
   "id": "c5806eb1",
   "metadata": {},
   "source": [
    "### 2. What are the three different types of Boolean operators?"
   ]
  },
  {
   "cell_type": "markdown",
   "id": "3a006d1e",
   "metadata": {},
   "source": [
    "and, or, not"
   ]
  },
  {
   "cell_type": "markdown",
   "id": "c9bd9bed",
   "metadata": {},
   "source": [
    "### 3. Make a list of each Boolean operators truth tables (i.e. every possible combination of Booleanvalues for the operator and what it evaluate )."
   ]
  },
  {
   "cell_type": "markdown",
   "id": "dc9f6d5d",
   "metadata": {},
   "source": [
    "Here are the truth tables for the three Boolean operators:\n",
    "\n",
    "1. AND operator:\n",
    "\n",
    "| Operand 1 | Operand 2 | Result   |\n",
    "| --------- | --------- | -------- |\n",
    "| True      | True      | True     |\n",
    "| True      | False     | False    |\n",
    "| False     | True      | False    |\n",
    "| False     | False     | False    |\n",
    "\n",
    "2. OR operator:\n",
    "\n",
    "| Operand 1 | Operand 2 | Result   |\n",
    "| --------- | --------- | -------- |\n",
    "| True      | True      | True     |\n",
    "| True      | False     | True     |\n",
    "| False     | True      | True     |\n",
    "| False     | False     | False    |\n",
    "\n",
    "3. NOT operator:\n",
    "\n",
    "| Operand | Result   |\n",
    "| ------- | -------- |\n",
    "| True    | False    |\n",
    "| False   | True     |\n",
    "\n",
    "These truth tables show the possible combinations of Boolean values for each operator and the resulting Boolean value of the expression. They are useful for evaluating the outcome of a Boolean expression and determining the logical behavior of a program."
   ]
  },
  {
   "cell_type": "markdown",
   "id": "443ab4cf",
   "metadata": {},
   "source": [
    "### 4. What are the values of the following expressions?\n"
   ]
  },
  {
   "cell_type": "markdown",
   "id": "107498f5",
   "metadata": {},
   "source": [
    "1) (5>4) and (3 == 5) = \"False\"\n",
    "2) not (5 > 4) = \"False\"\n",
    "3) (5>4) or (3 == 5) = \"True\"\n",
    "4) not ((5>4) or (3 == 5)) = \"False\"\n",
    "5) (True and True) and (True == False) = \"False\"\n",
    "6) (not False) or (not True) = \"True\""
   ]
  },
  {
   "cell_type": "markdown",
   "id": "8a299fe0",
   "metadata": {},
   "source": [
    "### 5. What are the six comparison operators?"
   ]
  },
  {
   "cell_type": "markdown",
   "id": "25efa693",
   "metadata": {},
   "source": [
    "equal(==),not equal(!=),>,<,>=,<="
   ]
  },
  {
   "cell_type": "markdown",
   "id": "da4b491c",
   "metadata": {},
   "source": [
    "### 6. How do you tell the difference between the equal to and assignment operators?Describe acondition and when you would use one."
   ]
  },
  {
   "cell_type": "markdown",
   "id": "901d06ba",
   "metadata": {},
   "source": [
    "1) equal to (==) and assignment operator is (=)\n",
    "2) when we have assign a value use assignment operator like a = 5\n",
    "3) when we have to check any expression like 78 == 79 use equal to operator\n"
   ]
  },
  {
   "cell_type": "markdown",
   "id": "23526fcc",
   "metadata": {},
   "source": [
    "### 7. Identify the three blocks in this code:\n"
   ]
  },
  {
   "cell_type": "code",
   "execution_count": 3,
   "id": "1d86e60e",
   "metadata": {},
   "outputs": [],
   "source": [
    "spam = 0\n",
    "if spam == 10:\n",
    "    print('eggs')\n"
   ]
  },
  {
   "cell_type": "code",
   "execution_count": 4,
   "id": "89ad99d4",
   "metadata": {},
   "outputs": [
    {
     "name": "stdout",
     "output_type": "stream",
     "text": [
      "ham\n"
     ]
    }
   ],
   "source": [
    "if spam > 5:\n",
    "    print('bacon')\n",
    "else:\n",
    "    print('ham')\n"
   ]
  },
  {
   "cell_type": "code",
   "execution_count": 5,
   "id": "151bf560",
   "metadata": {},
   "outputs": [
    {
     "name": "stdout",
     "output_type": "stream",
     "text": [
      "spam\n",
      "spam\n"
     ]
    }
   ],
   "source": [
    "print('spam')\n",
    "print('spam')\n"
   ]
  },
  {
   "cell_type": "markdown",
   "id": "858fc311",
   "metadata": {},
   "source": [
    "### 8. Write code that prints Hello if 1 is stored in spam, prints Howdy if 2 is stored in spam, and printsGreetings! if anything else is stored in spam."
   ]
  },
  {
   "cell_type": "code",
   "execution_count": 6,
   "id": "d999d41f",
   "metadata": {},
   "outputs": [
    {
     "name": "stdout",
     "output_type": "stream",
     "text": [
      "Hello\n"
     ]
    }
   ],
   "source": [
    "spam = 1\n",
    "\n",
    "if spam == 1:\n",
    "    print(\"Hello\")\n",
    "elif spam == 2:\n",
    "    print(\"Howdy\")\n",
    "else:\n",
    "    print(\"Greetings!\")\n"
   ]
  },
  {
   "cell_type": "markdown",
   "id": "592c10f6",
   "metadata": {},
   "source": [
    "#### 9.If your programme is stuck in an endless loop, what keys you’ll press?"
   ]
  },
  {
   "cell_type": "markdown",
   "id": "36a2124a",
   "metadata": {},
   "source": [
    "ctr+c or ctr+break  --- window\n",
    "\n",
    "ctr+D --- linux"
   ]
  },
  {
   "cell_type": "markdown",
   "id": "d14405be",
   "metadata": {},
   "source": [
    "### 10. How can you tell the difference between break and continue?"
   ]
  },
  {
   "cell_type": "markdown",
   "id": "bd2c4630",
   "metadata": {},
   "source": [
    "\"break\" is used to terminate the loop entirely, while \"continue\" skips the remaining code for the current iteration and moves to the next iteration of the loop."
   ]
  },
  {
   "cell_type": "markdown",
   "id": "732168c9",
   "metadata": {},
   "source": [
    "### 11. In a for loop, what is the difference between range(10), range(0, 10), and range(0, 10, 1)?"
   ]
  },
  {
   "cell_type": "markdown",
   "id": "29dc3715",
   "metadata": {},
   "source": [
    "1) range(0,10,1)  = [0, 1, 2, 3, 4, 5, 6, 7, 8, 9]\n",
    "2) (range(10)) = [0, 1, 2, 3, 4, 5, 6, 7, 8, 9]\n",
    "3) range(0,10) = [0, 1, 2, 3, 4, 5, 6, 7, 8, 9] \n",
    "##### no difference they all are same"
   ]
  },
  {
   "cell_type": "markdown",
   "id": "87bd11c7",
   "metadata": {},
   "source": [
    "##### 12. Write a short program that prints the numbers 1 to 10 using a for loop. Then write an equivalentprogram that prints the numbers 1 to 10 using a while loop."
   ]
  },
  {
   "cell_type": "code",
   "execution_count": 9,
   "id": "0d0e1cb5",
   "metadata": {},
   "outputs": [
    {
     "data": {
      "text/plain": [
       "[0, 1, 2, 3, 4, 5, 6, 7, 8, 9, 10]"
      ]
     },
     "execution_count": 9,
     "metadata": {},
     "output_type": "execute_result"
    }
   ],
   "source": [
    "num = [i for i in range(11)]\n",
    "num"
   ]
  },
  {
   "cell_type": "code",
   "execution_count": 11,
   "id": "9d7128e6",
   "metadata": {},
   "outputs": [],
   "source": [
    "i = 0\n",
    "new1 = []\n",
    "while i<11:\n",
    "    new1.append(i)\n",
    "    i+=1"
   ]
  },
  {
   "cell_type": "markdown",
   "id": "12c0b1b7",
   "metadata": {},
   "source": [
    "#### 13. If you had a function named bacon() inside a module named spam, how would you call it afterimporting spam?"
   ]
  },
  {
   "cell_type": "markdown",
   "id": "3b09a4c8",
   "metadata": {},
   "source": [
    " ### from spam import bacon"
   ]
  },
  {
   "cell_type": "code",
   "execution_count": null,
   "id": "6bce53c1",
   "metadata": {},
   "outputs": [],
   "source": []
  }
 ],
 "metadata": {
  "kernelspec": {
   "display_name": "Python 3 (ipykernel)",
   "language": "python",
   "name": "python3"
  },
  "language_info": {
   "codemirror_mode": {
    "name": "ipython",
    "version": 3
   },
   "file_extension": ".py",
   "mimetype": "text/x-python",
   "name": "python",
   "nbconvert_exporter": "python",
   "pygments_lexer": "ipython3",
   "version": "3.10.9"
  }
 },
 "nbformat": 4,
 "nbformat_minor": 5
}
